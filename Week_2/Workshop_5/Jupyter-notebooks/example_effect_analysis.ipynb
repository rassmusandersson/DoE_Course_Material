{
 "cells": [
  {
   "attachments": {},
   "cell_type": "markdown",
   "id": "0ff83e8d",
   "metadata": {},
   "source": [
    "<a href=\"https://colab.research.google.com/github/Teoroo-CMC/DoE_Course_Material/blob/main/Week_2/Lectures/Jupyter-notebooks/example_effect_analysis.ipynb\" target=\"_parent\"><img src=\"https://colab.research.google.com/assets/colab-badge.svg\" alt=\"Open In Colab\"/></a>"
   ]
  },
  {
   "attachments": {},
   "cell_type": "markdown",
   "id": "30bf3aed",
   "metadata": {},
   "source": [
    "## Two-Level, Four Factor Factorial Design\n",
    "\n",
    "Suppose we're given the results of a  2$^4$ factorial design, which yields the following contrasts:\n",
    "\n",
    "parameter| effect  \n",
    "--- | ---\n",
    "A | 0.4\n",
    "B | −7.6\n",
    "C | 14.1\n",
    "D |66.7\n",
    "AB | 16.7\n",
    "AC | 3.1\n",
    "AD | 5.2\n",
    "BC | 8.3\n",
    "BD | −3.6\n",
    "CD | 14.3\n",
    "ABC | −0.1\n",
    "ABD | −4.7\n",
    "ACD | 7.7\n",
    "BCD | −2.3\n",
    "ABCD | 3.9\n",
    "\n",
    "\n",
    "(This follows question 4.3 in Box and Draper.)\n",
    "\n",
    "We'll use quantile plots to interpret the results - we can't go much deeper than that, since the problem does not give the vaues of input or response variables.\n",
    "\n",
    "We'll start by importing some libraries, then populate a dictionary with the various main and interation effects (the only assumption is that the response has a mean of 0, x$_0$ = 0.0)."
   ]
  },
  {
   "cell_type": "code",
   "execution_count": 1,
   "id": "355d5f88",
   "metadata": {},
   "outputs": [],
   "source": [
    "%matplotlib inline\n",
    "\n",
    "import pandas as pd\n",
    "import numpy as np\n",
    "from numpy.random import rand, seed\n",
    "import seaborn as sns\n",
    "import scipy.stats as stats\n",
    "from matplotlib.pyplot import *"
   ]
  },
  {
   "cell_type": "code",
   "execution_count": 2,
   "id": "543f2341",
   "metadata": {},
   "outputs": [],
   "source": [
    "effects = {}\n",
    "effects[0] = {'x0': 0.0}\n",
    "effects[1] = {'x1': 0.4,\n",
    "              'x2': -7.6,\n",
    "              'x3': 14.1,\n",
    "              'x4': 66.7}\n",
    "\n",
    "effects[2] = {'x1-x2': 16.7,\n",
    "              'x1-x3': 3.1,\n",
    "              'x1-x4': 5.2,\n",
    "              'x2-x3': 8.3,\n",
    "              'x3-x4': 14.3}\n",
    "effects[3] = {'x1-x2-x3': -0.1,\n",
    "              'x1-x2-x4': -4.7,\n",
    "              'x1-x3-x4': 7.7,\n",
    "              'x2-x3-x4': -2.3}\n",
    "\n",
    "effects[4] = {'x1-x2-x3-x4': 3.9}"
   ]
  },
  {
   "attachments": {},
   "cell_type": "markdown",
   "id": "c05011ba",
   "metadata": {},
   "source": [
    "Now we can use that dictionary to create a dataframe (this is a bit more work than it needs to be, but this is showing you how might structure the data for more complicated interactions). The important thing is that we have a labeled list that's a Pandas DataFrame:"
   ]
  },
  {
   "cell_type": "code",
   "execution_count": 3,
   "id": "a657e94a",
   "metadata": {},
   "outputs": [
    {
     "data": {
      "text/html": [
       "<div>\n",
       "<style scoped>\n",
       "    .dataframe tbody tr th:only-of-type {\n",
       "        vertical-align: middle;\n",
       "    }\n",
       "\n",
       "    .dataframe tbody tr th {\n",
       "        vertical-align: top;\n",
       "    }\n",
       "\n",
       "    .dataframe thead th {\n",
       "        text-align: right;\n",
       "    }\n",
       "</style>\n",
       "<table border=\"1\" class=\"dataframe\">\n",
       "  <thead>\n",
       "    <tr style=\"text-align: right;\">\n",
       "      <th></th>\n",
       "      <th>dy</th>\n",
       "    </tr>\n",
       "  </thead>\n",
       "  <tbody>\n",
       "    <tr>\n",
       "      <th>x0</th>\n",
       "      <td>0.0</td>\n",
       "    </tr>\n",
       "    <tr>\n",
       "      <th>x1</th>\n",
       "      <td>0.4</td>\n",
       "    </tr>\n",
       "    <tr>\n",
       "      <th>x2</th>\n",
       "      <td>-7.6</td>\n",
       "    </tr>\n",
       "    <tr>\n",
       "      <th>x3</th>\n",
       "      <td>14.1</td>\n",
       "    </tr>\n",
       "    <tr>\n",
       "      <th>x4</th>\n",
       "      <td>66.7</td>\n",
       "    </tr>\n",
       "    <tr>\n",
       "      <th>x1-x2</th>\n",
       "      <td>16.7</td>\n",
       "    </tr>\n",
       "    <tr>\n",
       "      <th>x1-x3</th>\n",
       "      <td>3.1</td>\n",
       "    </tr>\n",
       "    <tr>\n",
       "      <th>x1-x4</th>\n",
       "      <td>5.2</td>\n",
       "    </tr>\n",
       "    <tr>\n",
       "      <th>x2-x3</th>\n",
       "      <td>8.3</td>\n",
       "    </tr>\n",
       "    <tr>\n",
       "      <th>x3-x4</th>\n",
       "      <td>14.3</td>\n",
       "    </tr>\n",
       "    <tr>\n",
       "      <th>x1-x2-x3</th>\n",
       "      <td>-0.1</td>\n",
       "    </tr>\n",
       "    <tr>\n",
       "      <th>x1-x2-x4</th>\n",
       "      <td>-4.7</td>\n",
       "    </tr>\n",
       "    <tr>\n",
       "      <th>x1-x3-x4</th>\n",
       "      <td>7.7</td>\n",
       "    </tr>\n",
       "    <tr>\n",
       "      <th>x2-x3-x4</th>\n",
       "      <td>-2.3</td>\n",
       "    </tr>\n",
       "    <tr>\n",
       "      <th>x1-x2-x3-x4</th>\n",
       "      <td>3.9</td>\n",
       "    </tr>\n",
       "  </tbody>\n",
       "</table>\n",
       "</div>"
      ],
      "text/plain": [
       "               dy\n",
       "x0            0.0\n",
       "x1            0.4\n",
       "x2           -7.6\n",
       "x3           14.1\n",
       "x4           66.7\n",
       "x1-x2        16.7\n",
       "x1-x3         3.1\n",
       "x1-x4         5.2\n",
       "x2-x3         8.3\n",
       "x3-x4        14.3\n",
       "x1-x2-x3     -0.1\n",
       "x1-x2-x4     -4.7\n",
       "x1-x3-x4      7.7\n",
       "x2-x3-x4     -2.3\n",
       "x1-x2-x3-x4   3.9"
      ]
     },
     "execution_count": 3,
     "metadata": {},
     "output_type": "execute_result"
    }
   ],
   "source": [
    "master_dict = {}\n",
    "for nvars in effects.keys():\n",
    "\n",
    "    effect = effects[nvars]\n",
    "    for k in effect.keys():\n",
    "        v = effect[k]\n",
    "        master_dict[k] = v\n",
    "\n",
    "master_df = pd.DataFrame(master_dict,index=['dy']).T\n",
    "master_df"
   ]
  },
  {
   "cell_type": "code",
   "execution_count": 4,
   "id": "6215c678",
   "metadata": {},
   "outputs": [
    {
     "data": {
      "text/html": [
       "<div>\n",
       "<style scoped>\n",
       "    .dataframe tbody tr th:only-of-type {\n",
       "        vertical-align: middle;\n",
       "    }\n",
       "\n",
       "    .dataframe tbody tr th {\n",
       "        vertical-align: top;\n",
       "    }\n",
       "\n",
       "    .dataframe thead th {\n",
       "        text-align: right;\n",
       "    }\n",
       "</style>\n",
       "<table border=\"1\" class=\"dataframe\">\n",
       "  <thead>\n",
       "    <tr style=\"text-align: right;\">\n",
       "      <th></th>\n",
       "      <th>dy</th>\n",
       "    </tr>\n",
       "  </thead>\n",
       "  <tbody>\n",
       "    <tr>\n",
       "      <th>x4</th>\n",
       "      <td>66.7</td>\n",
       "    </tr>\n",
       "    <tr>\n",
       "      <th>x1-x2</th>\n",
       "      <td>16.7</td>\n",
       "    </tr>\n",
       "    <tr>\n",
       "      <th>x3-x4</th>\n",
       "      <td>14.3</td>\n",
       "    </tr>\n",
       "    <tr>\n",
       "      <th>x3</th>\n",
       "      <td>14.1</td>\n",
       "    </tr>\n",
       "    <tr>\n",
       "      <th>x2-x3</th>\n",
       "      <td>8.3</td>\n",
       "    </tr>\n",
       "    <tr>\n",
       "      <th>x1-x3-x4</th>\n",
       "      <td>7.7</td>\n",
       "    </tr>\n",
       "    <tr>\n",
       "      <th>x1-x4</th>\n",
       "      <td>5.2</td>\n",
       "    </tr>\n",
       "    <tr>\n",
       "      <th>x1-x2-x3-x4</th>\n",
       "      <td>3.9</td>\n",
       "    </tr>\n",
       "    <tr>\n",
       "      <th>x1-x3</th>\n",
       "      <td>3.1</td>\n",
       "    </tr>\n",
       "    <tr>\n",
       "      <th>x1</th>\n",
       "      <td>0.4</td>\n",
       "    </tr>\n",
       "    <tr>\n",
       "      <th>x0</th>\n",
       "      <td>0.0</td>\n",
       "    </tr>\n",
       "    <tr>\n",
       "      <th>x1-x2-x3</th>\n",
       "      <td>-0.1</td>\n",
       "    </tr>\n",
       "    <tr>\n",
       "      <th>x2-x3-x4</th>\n",
       "      <td>-2.3</td>\n",
       "    </tr>\n",
       "    <tr>\n",
       "      <th>x1-x2-x4</th>\n",
       "      <td>-4.7</td>\n",
       "    </tr>\n",
       "    <tr>\n",
       "      <th>x2</th>\n",
       "      <td>-7.6</td>\n",
       "    </tr>\n",
       "  </tbody>\n",
       "</table>\n",
       "</div>"
      ],
      "text/plain": [
       "               dy\n",
       "x4           66.7\n",
       "x1-x2        16.7\n",
       "x3-x4        14.3\n",
       "x3           14.1\n",
       "x2-x3         8.3\n",
       "x1-x3-x4      7.7\n",
       "x1-x4         5.2\n",
       "x1-x2-x3-x4   3.9\n",
       "x1-x3         3.1\n",
       "x1            0.4\n",
       "x0            0.0\n",
       "x1-x2-x3     -0.1\n",
       "x2-x3-x4     -2.3\n",
       "x1-x2-x4     -4.7\n",
       "x2           -7.6"
      ]
     },
     "execution_count": 4,
     "metadata": {},
     "output_type": "execute_result"
    }
   ],
   "source": [
    "#print help(master_df.sort)\n",
    "view = master_df.sort_values(by='dy',ascending=False)\n",
    "view"
   ]
  },
  {
   "attachments": {},
   "cell_type": "markdown",
   "id": "717b9baf",
   "metadata": {},
   "source": [
    "This table shows that one variable,  x4^4$, has a huge effect that outshadows all other effects. In case it wasn't obvious already, the pareto chart and the quantile-quantile plot makes it crystal clear:"
   ]
  },
  {
   "cell_type": "code",
   "execution_count": 6,
   "id": "aeb178be",
   "metadata": {},
   "outputs": [
    {
     "data": {
      "image/png": "[encoded data removed]",
      "text/plain": [
       "<Figure size 1584x720 with 2 Axes>"
      ]
     },
     "metadata": {
      "needs_background": "light"
     },
     "output_type": "display_data"
    }
   ],
   "source": [
    "import matplotlib.pyplot as plt\n",
    "from matplotlib.ticker import PercentFormatter\n",
    "master_df\n",
    "indexes=['dy']\n",
    "for ii in indexes: \n",
    "    effects_df=pd.DataFrame(master_df[ii].abs())\n",
    "    effects_df = effects_df.sort_values(by=ii, ascending=False)\n",
    "# Add cumulative percentage column\n",
    "    effects_df[\"cum_percentage\"] = round(effects_df[ii].cumsum()/effects_df[ii].sum()*100,2)\n",
    "    plt.rcParams.update({'font.size': 22})\n",
    "# Set figure and axis\n",
    "    fig, ax = plt.subplots(figsize=(22,10))\n",
    "\n",
    "# Plot bars (i.e. frequencies)\n",
    "    ax.set_title(\"Pareto Chart\")\n",
    "    ax.set_xlabel(\"Parameter\")\n",
    "    ax.set_ylabel(\"Frequency\");\n",
    "    effects_df[ii].plot.bar(y='Standardized effect', ax=ax)\n",
    "#    ax.axhline(2.06, color=\"orange\", linestyle=\"dashed\")\n",
    "\n",
    "# Second y axis (i.e. cumulative percentage)\n",
    "    ax2 = ax.twinx()\n",
    "#ax2.plot(effects_df.index, effects_df[\"cum_percentage\"], color=\"red\", marker=\"D\", ms=7)\n",
    "    effects_df.plot(y=\"cum_percentage\", color=\"red\", marker=\"D\", ms=7, ax=ax2)\n",
    "    ax2.yaxis.set_major_formatter(PercentFormatter())\n",
    "    ax2.set_ylabel(\"Cumulative Percentage\");"
   ]
  },
  {
   "cell_type": "code",
   "execution_count": 5,
   "id": "c63e7edb",
   "metadata": {},
   "outputs": [
    {
     "data": {
      "image/png": "[encoded data removed]",
      "text/plain": [
       "<Figure size 288x288 with 1 Axes>"
      ]
     },
     "metadata": {
      "needs_background": "light"
     },
     "output_type": "display_data"
    }
   ],
   "source": [
    "# Quantile-quantile plot of effects:\n",
    "\n",
    "fig = figure(figsize=(4,4))\n",
    "ax1 = fig.add_subplot(111)\n",
    "\n",
    "stats.probplot(master_df['dy'], dist=\"norm\", plot=ax1)\n",
    "ax1.set_title('Effect Size: Quantile-Quantile Plot')\n",
    "show()"
   ]
  },
  {
   "attachments": {},
   "cell_type": "markdown",
   "id": "c9f8d531",
   "metadata": {},
   "source": [
    "The largest ordered value in the effects, which is the effect of  x$_4$, is way off by itself. In this region of operational state-space, x$_4$ dominates the system's behavior."
   ]
  }
 ],
 "metadata": {
  "kernelspec": {
   "display_name": "Python 3 (ipykernel)",
   "language": "python",
   "name": "python3"
  },
  "language_info": {
   "codemirror_mode": {
    "name": "ipython",
    "version": 3
   },
   "file_extension": ".py",
   "mimetype": "text/x-python",
   "name": "python",
   "nbconvert_exporter": "python",
   "pygments_lexer": "ipython3",
   "version": "3.9.7"
  }
 },
 "nbformat": 4,
 "nbformat_minor": 5
}
